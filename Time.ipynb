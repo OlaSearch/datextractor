{
 "cells": [
  {
   "cell_type": "code",
   "execution_count": 4,
   "metadata": {
    "collapsed": false
   },
   "outputs": [
    {
     "name": "stdout",
     "output_type": "stream",
     "text": [
      "The invoice was working on <TIMEX2 val=\"2016-09-30 13:35:13.08\">twenty five minutes ago</TIMEX2>.\n"
     ]
    }
   ],
   "source": [
    "from datextractor import tag, ground\n",
    "from mx.DateTime import *\n",
    "\n",
    "tagged_text = tag('The invoice was working on twenty five minutes ago.')\n",
    "print ground(tagged_text, now())"
   ]
  }
 ],
 "metadata": {
  "kernelspec": {
   "display_name": "Python 2",
   "language": "python",
   "name": "python2"
  },
  "language_info": {
   "codemirror_mode": {
    "name": "ipython",
    "version": 2
   },
   "file_extension": ".py",
   "mimetype": "text/x-python",
   "name": "python",
   "nbconvert_exporter": "python",
   "pygments_lexer": "ipython2",
   "version": "2.7.10"
  }
 },
 "nbformat": 4,
 "nbformat_minor": 1
}

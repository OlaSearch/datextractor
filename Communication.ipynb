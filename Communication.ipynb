{
 "cells": [
  {
   "cell_type": "code",
   "execution_count": 2,
   "metadata": {
    "collapsed": false
   },
   "outputs": [
    {
     "name": "stdout",
     "output_type": "stream",
     "text": [
      "Hello my phone number is <PHONE>\\+91\\ 90291420</PHONE>\n",
      "Hello my phone number is <PHONE>\\+659012313212</PHONE>\n",
      "Hello my email address is <EMAIL>rmdort@gmail.com</EMAIL> and <EMAIL>hello@hotmail.c</EMAIL>\n",
      "Hello my website url is <URL>http://www.olasearch.com</URL>\n",
      "Hello my website url is <URL>www.olasearch.com</URL>\n"
     ]
    }
   ],
   "source": [
    "from datextractor import tag_phone, tag_email, tag_url\n",
    "print tag_phone('Hello my phone number is +91 90291420')\n",
    "print tag_phone('Hello my phone number is +659012313212')\n",
    "print tag_email('Hello my email address is rmdort@gmail.com and hello@hotmail.c')\n",
    "print tag_url('Hello my website url is http://www.olasearch.com')\n",
    "print tag_url('Hello my website url is www.olasearch.com')"
   ]
  },
  {
   "cell_type": "code",
   "execution_count": null,
   "metadata": {
    "collapsed": true
   },
   "outputs": [],
   "source": []
  }
 ],
 "metadata": {
  "kernelspec": {
   "display_name": "Python 2",
   "language": "python",
   "name": "python2"
  },
  "language_info": {
   "codemirror_mode": {
    "name": "ipython",
    "version": 2
   },
   "file_extension": ".py",
   "mimetype": "text/x-python",
   "name": "python",
   "nbconvert_exporter": "python",
   "pygments_lexer": "ipython2",
   "version": "2.7.10"
  }
 },
 "nbformat": 4,
 "nbformat_minor": 1
}
